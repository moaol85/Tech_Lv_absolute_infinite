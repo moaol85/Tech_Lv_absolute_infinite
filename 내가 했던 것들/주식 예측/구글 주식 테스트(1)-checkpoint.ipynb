{
 "cells": [
  {
   "cell_type": "code",
   "execution_count": 36,
   "metadata": {
    "ExecuteTime": {
     "end_time": "2019-02-06T10:09:47.575095Z",
     "start_time": "2019-02-06T10:09:47.569090Z"
    }
   },
   "outputs": [],
   "source": [
    "import tensorflow as tf\n",
    "import numpy as np\n",
    "import pandas as pd\n",
    "import datetime\n",
    "import matplotlib.pyplot as plt"
   ]
  },
  {
   "cell_type": "code",
   "execution_count": 37,
   "metadata": {
    "ExecuteTime": {
     "end_time": "2019-02-06T10:09:55.890124Z",
     "start_time": "2019-02-06T10:09:55.886121Z"
    }
   },
   "outputs": [],
   "source": [
    "# 랜덤에 의해 똑같은 결과를 재현하도록 시드 설정\n",
    "# 하이퍼파라미터를 튜닝하기 위한 용도(흔들리면 무엇때문에 좋아졌는지 알기 어려움)"
   ]
  },
  {
   "cell_type": "code",
   "execution_count": 38,
   "metadata": {
    "ExecuteTime": {
     "end_time": "2019-02-06T10:09:58.541441Z",
     "start_time": "2019-02-06T10:09:58.537438Z"
    }
   },
   "outputs": [],
   "source": [
    "tf.set_random_seed(1000)"
   ]
  },
  {
   "cell_type": "code",
   "execution_count": 39,
   "metadata": {
    "ExecuteTime": {
     "end_time": "2019-02-06T10:09:59.829348Z",
     "start_time": "2019-02-06T10:09:59.825346Z"
    }
   },
   "outputs": [],
   "source": [
    "# Standardization"
   ]
  },
  {
   "cell_type": "code",
   "execution_count": 40,
   "metadata": {
    "ExecuteTime": {
     "end_time": "2019-02-06T10:10:01.177603Z",
     "start_time": "2019-02-06T10:10:01.172598Z"
    }
   },
   "outputs": [],
   "source": [
    "def data_standardization(x):\n",
    "    x_np = np.asarray(x)\n",
    "    return (x_np - x_np.mean()) / x_np.std()"
   ]
  },
  {
   "cell_type": "code",
   "execution_count": 41,
   "metadata": {
    "ExecuteTime": {
     "end_time": "2019-02-06T10:10:03.118980Z",
     "start_time": "2019-02-06T10:10:03.111972Z"
    }
   },
   "outputs": [],
   "source": [
    "# 너무 작거나 너무 큰 값이 학습을 방해하는 것을 방지하고자 정규화한다\n",
    "# x가 양수라는 가정하에 최소값과 최대값을 이용하여 0~1사이의 값으로 변환\n",
    "# Min-Max scaling\n",
    "def min_max_scaling(x):\n",
    "    x_np = np.asarray(x)\n",
    "    return (x_np - x_np.min()) / (x_np.max() - x_np.min() + 1e-9) # 1e-7은 0으로 나누는 오류 예방차원"
   ]
  },
  {
   "cell_type": "code",
   "execution_count": 42,
   "metadata": {
    "ExecuteTime": {
     "end_time": "2019-02-06T10:10:05.021011Z",
     "start_time": "2019-02-06T10:10:05.012504Z"
    }
   },
   "outputs": [],
   "source": [
    "# 정규화된 값을 원래의 값으로 되돌린다\n",
    "# 정규화하기 이전의 org_x값과 되돌리고 싶은 x를 입력하면 역정규화된 값을 리턴한다\n",
    "def reverse_min_max_scaling(org_x, x):\n",
    "    org_x_np = np.asarray(org_x)\n",
    "    x_np = np.asarray(x)\n",
    "    return (x_np * (org_x_np.max() - org_x_np.min() + 1e-7)) + org_x_np.min()"
   ]
  },
  {
   "cell_type": "code",
   "execution_count": 43,
   "metadata": {
    "ExecuteTime": {
     "end_time": "2019-02-06T10:10:09.433914Z",
     "start_time": "2019-02-06T10:10:09.428912Z"
    }
   },
   "outputs": [],
   "source": [
    "# 하이퍼파라미터\n",
    "input_data_column_cnt = 6  # 입력데이터의 컬럼 개수(Variable 개수)\n",
    "output_data_column_cnt = 1 # 결과데이터의 컬럼 개수\n",
    " \n",
    "seq_length = 28            # 1개 시퀀스의 길이(시계열데이터 입력 개수)\n",
    "rnn_cell_hidden_dim = 20   # 각 셀의 (hidden)출력 크기\n",
    "forget_bias = 1.0          # 망각편향(기본값 1.0)\n",
    "num_stacked_layers = 1     # stacked LSTM layers 개수\n",
    "keep_prob = 1.0            # dropout할 때 keep할 비율\n",
    " \n",
    "epoch_num = 1000           # 에폭 횟수(학습용전체데이터를 몇 회 반복해서 학습할 것인가 입력)\n",
    "learning_rate = 0.01       # 학습률"
   ]
  },
  {
   "cell_type": "code",
   "execution_count": 44,
   "metadata": {
    "ExecuteTime": {
     "end_time": "2019-02-06T10:10:19.762014Z",
     "start_time": "2019-02-06T10:10:19.681450Z"
    }
   },
   "outputs": [
    {
     "name": "stdout",
     "output_type": "stream",
     "text": [
      "<class 'pandas.core.frame.DataFrame'>\n",
      "RangeIndex: 3642 entries, 0 to 3641\n",
      "Data columns (total 7 columns):\n",
      "Date         3642 non-null object\n",
      "Open         3642 non-null object\n",
      "High         3642 non-null object\n",
      "Low          3642 non-null object\n",
      "Close        3642 non-null object\n",
      "Adj Close    3642 non-null object\n",
      "Volume       3642 non-null object\n",
      "dtypes: object(7)\n",
      "memory usage: 199.2+ KB\n"
     ]
    }
   ],
   "source": [
    "# 데이터를 로딩한다.\n",
    "stock_file_name = 'GOOG.csv' # 알파벳 주가데이터 파일\n",
    "encoding = 'euc-kr' # 문자 인코딩\n",
    "names = ['Date','Open','High','Low','Close','Adj Close','Volume']\n",
    "raw_dataframe = pd.read_csv(stock_file_name, names=names, encoding=encoding) #판다스이용 csv파일 로딩\n",
    "raw_dataframe.info() # 데이터 정보 출력"
   ]
  },
  {
   "cell_type": "code",
   "execution_count": 45,
   "metadata": {
    "ExecuteTime": {
     "end_time": "2019-02-06T10:10:26.833633Z",
     "start_time": "2019-02-06T10:10:26.817623Z"
    }
   },
   "outputs": [
    {
     "name": "stdout",
     "output_type": "stream",
     "text": [
      "stock_info.shape:  (3641, 6)\n",
      "stock_info[0]:  [4.9676899e+01 5.1693783e+01 4.7669952e+01 4.9845802e+01 4.9845802e+01\n",
      " 4.4994500e+07]\n"
     ]
    }
   ],
   "source": [
    "# raw_dataframe.drop('Date', axis=1, inplace=True) # 시간열을 제거하고 dataframe 재생성하지 않기\n",
    "del raw_dataframe['Date'] # 위 줄과 같은 효과\n",
    " \n",
    "stock_info = raw_dataframe.values[1:].astype(np.float) # 금액&거래량 문자열을 부동소수점형으로 변환한다\n",
    "print(\"stock_info.shape: \", stock_info.shape)\n",
    "print(\"stock_info[0]: \", stock_info[0])"
   ]
  },
  {
   "cell_type": "code",
   "execution_count": 46,
   "metadata": {
    "ExecuteTime": {
     "end_time": "2019-02-06T10:10:34.570743Z",
     "start_time": "2019-02-06T10:10:34.557228Z"
    }
   },
   "outputs": [
    {
     "name": "stdout",
     "output_type": "stream",
     "text": [
      "price.shape:  (3641, 5)\n",
      "price[0]:  [49.676899 51.693783 47.669952 49.845802 49.845802]\n",
      "norm_price[0]:  [0.00163669 0.00328149 0.         0.00177444 0.00177444]\n",
      "====================================================================================================\n"
     ]
    }
   ],
   "source": [
    "# 데이터 전처리\n",
    "# 가격과 거래량 수치의 차이가 많아나서 각각 별도로 정규화한다\n",
    " \n",
    "# 가격형태 데이터들을 정규화한다\n",
    "# ['Open','High','Low','Close','Adj Close','Volume']에서 'Adj Close'까지 취함\n",
    "# 곧, 마지막 열 Volume를 제외한 모든 열\n",
    "price = stock_info[:,:-1]\n",
    "norm_price = min_max_scaling(price) # 가격형태 데이터 정규화 처리\n",
    "print(\"price.shape: \", price.shape)\n",
    "print(\"price[0]: \", price[0])\n",
    "print(\"norm_price[0]: \", norm_price[0])\n",
    "print(\"=\"*100) # 화면상 구분용"
   ]
  },
  {
   "cell_type": "code",
   "execution_count": 47,
   "metadata": {
    "ExecuteTime": {
     "end_time": "2019-02-06T10:10:39.293099Z",
     "start_time": "2019-02-06T10:10:39.283094Z"
    }
   },
   "outputs": [
    {
     "name": "stdout",
     "output_type": "stream",
     "text": [
      "volume.shape:  (3641, 1)\n",
      "volume[0]:  [44994500.]\n",
      "norm_volume[0]:  [0.54357771]\n",
      "====================================================================================================\n"
     ]
    }
   ],
   "source": [
    "# 거래량형태 데이터를 정규화한다\n",
    "# ['Open','High','Low','Close','Adj Close','Volume']에서 마지막 'Volume'만 취함\n",
    "# [:,-1]이 아닌 [:,-1:]이므로 주의하자! 스칼라가아닌 벡터값 산출해야만 쉽게 병합 가능\n",
    "volume = stock_info[:,-1:]\n",
    "norm_volume = min_max_scaling(volume) # 거래량형태 데이터 정규화 처리\n",
    "print(\"volume.shape: \", volume.shape)\n",
    "print(\"volume[0]: \", volume[0])\n",
    "print(\"norm_volume[0]: \", norm_volume[0])\n",
    "print(\"=\"*100) # 화면상 구분용"
   ]
  },
  {
   "cell_type": "code",
   "execution_count": 48,
   "metadata": {
    "ExecuteTime": {
     "end_time": "2019-02-06T10:10:44.403694Z",
     "start_time": "2019-02-06T10:10:44.393687Z"
    }
   },
   "outputs": [
    {
     "name": "stdout",
     "output_type": "stream",
     "text": [
      "x.shape:  (3641, 6)\n",
      "x[0]:  [0.00163669 0.00328149 0.         0.00177444 0.00177444 0.54357771]\n",
      "x[-1]:  [0.87844755 0.89639703 0.87225623 0.8956957  0.8956957  0.04258085]\n",
      "====================================================================================================\n"
     ]
    }
   ],
   "source": [
    "# 행은 그대로 두고 열을 우측에 붙여 합친다\n",
    "x = np.concatenate((norm_price, norm_volume), axis=1) # axis=1, 세로로 합친다\n",
    "print(\"x.shape: \", x.shape)\n",
    "print(\"x[0]: \", x[0])    # x의 첫 값\n",
    "print(\"x[-1]: \", x[-1])  # x의 마지막 값\n",
    "print(\"=\"*100) # 화면상 구분용"
   ]
  },
  {
   "cell_type": "code",
   "execution_count": 49,
   "metadata": {
    "ExecuteTime": {
     "end_time": "2019-02-06T10:10:45.670818Z",
     "start_time": "2019-02-06T10:10:45.664314Z"
    }
   },
   "outputs": [
    {
     "name": "stdout",
     "output_type": "stream",
     "text": [
      "y[0]:  [0.00177444]\n",
      "y[-1]:  [0.8956957]\n"
     ]
    }
   ],
   "source": [
    "y = x[:, [-2]] # 타켓은 주식 종가이다\n",
    "print(\"y[0]: \",y[0])     # y의 첫 값\n",
    "print(\"y[-1]: \",y[-1])   # y의 마지막 값"
   ]
  },
  {
   "cell_type": "code",
   "execution_count": 50,
   "metadata": {
    "ExecuteTime": {
     "end_time": "2019-02-06T10:10:49.913502Z",
     "start_time": "2019-02-06T10:10:49.910500Z"
    }
   },
   "outputs": [],
   "source": [
    "dataX = [] # 입력으로 사용될 Sequence Data\n",
    "dataY = [] # 출력(타켓)으로 사용"
   ]
  },
  {
   "cell_type": "code",
   "execution_count": 51,
   "metadata": {
    "ExecuteTime": {
     "end_time": "2019-02-06T10:11:05.521271Z",
     "start_time": "2019-02-06T10:11:05.504255Z"
    }
   },
   "outputs": [
    {
     "name": "stdout",
     "output_type": "stream",
     "text": [
      "[[0.00163669 0.00328149 0.         0.00177444 0.00177444 0.54357771]\n",
      " [0.00204587 0.0053152  0.00183926 0.00500326 0.00500326 0.27788599]\n",
      " [0.00599176 0.00709774 0.00530305 0.00544484 0.00544484 0.22215147]\n",
      " [0.00619027 0.00633611 0.00308298 0.00360964 0.00360964 0.18552275]\n",
      " [0.0036461  0.00487767 0.00320857 0.00406743 0.00406743 0.11176266]\n",
      " [0.00364205 0.00485742 0.00352456 0.00484121 0.00484121 0.08627698]\n",
      " [0.00491818 0.00512885 0.00394184 0.0041282  0.0041282  0.07552423]\n",
      " [0.00377574 0.00386081 0.00245099 0.00245099 0.00245099 0.06316804]\n",
      " [0.00256848 0.0031397  0.00251176 0.00259683 0.00259683 0.0597739 ]\n",
      " [0.00273053 0.00283991 0.001503   0.00173797 0.00173797 0.11115125]\n",
      " [0.00130855 0.00259683 0.00120727 0.00224843 0.00224843 0.18395557]\n",
      " [0.00202156 0.00234161 0.00136121 0.00164074 0.00164074 0.06262793]\n",
      " [0.00204587 0.00244694 0.0014787  0.00227679 0.00227679 0.07108973]\n",
      " [0.00193649 0.00286422 0.00183926 0.00256848 0.00256848 0.06059797]\n",
      " [0.00266165 0.00273458 0.00204182 0.00257253 0.00257253 0.04934981]\n",
      " [0.00228489 0.0042943  0.00216335 0.00379599 0.00379599 0.10580327]\n",
      " [0.00432265 0.00504377 0.00425378 0.00467511 0.00467511 0.0953961 ]\n",
      " [0.00465486 0.00649816 0.00438747 0.00629155 0.00629155 0.13173361]\n",
      " [0.00591478 0.00740158 0.00576894 0.00649816 0.00649816 0.13032351]\n",
      " [0.0066359  0.00803762 0.00635637 0.00729625 0.00729625 0.11270997]\n",
      " [0.00747856 0.00872228 0.0071261  0.00872228 0.00872228 0.11521963]\n",
      " [0.00850352 0.01038733 0.0084306  0.00947986 0.00947986 0.12929645]\n",
      " [0.00966217 0.00990929 0.00873038 0.00886407 0.00886407 0.08790457]\n",
      " [0.00868582 0.00960545 0.0084468  0.00908284 0.00908284 0.09219528]\n",
      " [0.0092692  0.01080461 0.00853187 0.01007134 0.01007134 0.10381439]\n",
      " [0.01011995 0.01140014 0.00964191 0.00967027 0.00967027 0.11097122]\n",
      " [0.00956088 0.01009565 0.00884787 0.00903423 0.00903423 0.08592536]\n",
      " [0.0102658  0.01273704 0.00982422 0.01251828 0.01251828 0.20599515]] -> [0.01422789]\n"
     ]
    }
   ],
   "source": [
    "for i in range(0, len(y) - seq_length):\n",
    "    _x = x[i : i+seq_length]\n",
    "    _y = y[i + seq_length] # 다음 나타날 주가(정답)\n",
    "    if i is 0:\n",
    "        print(_x, \"->\", _y) # 첫번째 행만 출력해 봄\n",
    "    dataX.append(_x) # dataX 리스트에 추가\n",
    "    dataY.append(_y) # dataY 리스트에 추가"
   ]
  },
  {
   "cell_type": "code",
   "execution_count": 52,
   "metadata": {
    "ExecuteTime": {
     "end_time": "2019-02-06T10:11:14.593356Z",
     "start_time": "2019-02-06T10:11:14.588353Z"
    }
   },
   "outputs": [],
   "source": [
    "# 학습용/테스트용 데이터 생성\n",
    "# 전체 99.99%를 학습용 데이터로 사용\n",
    "train_size = int(len(dataY) * 0.9999)\n",
    "# 나머지(0.01%)를 테스트용 데이터로 사용\n",
    "test_size = len(dataY) - train_size"
   ]
  },
  {
   "cell_type": "code",
   "execution_count": 53,
   "metadata": {
    "ExecuteTime": {
     "end_time": "2019-02-06T10:11:16.234147Z",
     "start_time": "2019-02-06T10:11:16.216129Z"
    }
   },
   "outputs": [],
   "source": [
    "# 데이터를 잘라 학습용 데이터 생성\n",
    "trainX = np.array(dataX[0:train_size])\n",
    "trainY = np.array(dataY[0:train_size])"
   ]
  },
  {
   "cell_type": "code",
   "execution_count": 54,
   "metadata": {
    "ExecuteTime": {
     "end_time": "2019-02-06T10:11:17.219761Z",
     "start_time": "2019-02-06T10:11:17.213756Z"
    }
   },
   "outputs": [],
   "source": [
    "# 데이터를 잘라 테스트용 데이터 생성\n",
    "testX = np.array(dataX[train_size:len(dataX)])\n",
    "testY = np.array(dataY[train_size:len(dataY)])"
   ]
  },
  {
   "cell_type": "code",
   "execution_count": 55,
   "metadata": {
    "ExecuteTime": {
     "end_time": "2019-02-06T10:11:19.421215Z",
     "start_time": "2019-02-06T10:11:19.408205Z"
    }
   },
   "outputs": [
    {
     "name": "stdout",
     "output_type": "stream",
     "text": [
      "X:  Tensor(\"Placeholder_2:0\", shape=(?, 28, 6), dtype=float32)\n",
      "Y:  Tensor(\"Placeholder_3:0\", shape=(?, 1), dtype=float32)\n"
     ]
    }
   ],
   "source": [
    "# 텐서플로우 플레이스홀더 생성\n",
    "# 입력 X, 출력 Y를 생성한다\n",
    "X = tf.placeholder(tf.float32, [None, seq_length, input_data_column_cnt])\n",
    "print(\"X: \", X)\n",
    "Y = tf.placeholder(tf.float32, [None, 1])\n",
    "print(\"Y: \", Y)"
   ]
  },
  {
   "cell_type": "code",
   "execution_count": 56,
   "metadata": {
    "ExecuteTime": {
     "end_time": "2019-02-06T10:11:22.241099Z",
     "start_time": "2019-02-06T10:11:22.234095Z"
    }
   },
   "outputs": [
    {
     "name": "stdout",
     "output_type": "stream",
     "text": [
      "targets:  Tensor(\"Placeholder_4:0\", shape=(?, 1), dtype=float32)\n"
     ]
    }
   ],
   "source": [
    "# 검증용 측정지표를 산출하기 위한 targets, predictions를 생성한다\n",
    "targets = tf.placeholder(tf.float32, [None, 1])\n",
    "print(\"targets: \", targets)"
   ]
  },
  {
   "cell_type": "code",
   "execution_count": 57,
   "metadata": {
    "ExecuteTime": {
     "end_time": "2019-02-06T10:11:23.968864Z",
     "start_time": "2019-02-06T10:11:23.961862Z"
    }
   },
   "outputs": [
    {
     "name": "stdout",
     "output_type": "stream",
     "text": [
      "predictions:  Tensor(\"Placeholder_5:0\", shape=(?, 1), dtype=float32)\n"
     ]
    }
   ],
   "source": [
    "predictions = tf.placeholder(tf.float32, [None, 1])\n",
    "print(\"predictions: \", predictions)"
   ]
  },
  {
   "cell_type": "code",
   "execution_count": 58,
   "metadata": {
    "ExecuteTime": {
     "end_time": "2019-02-06T10:11:25.862090Z",
     "start_time": "2019-02-06T10:11:25.855085Z"
    }
   },
   "outputs": [],
   "source": [
    "# 모델(LSTM 네트워크) 생성\n",
    "def lstm_cell():\n",
    "    # LSTM셀을 생성\n",
    "    # num_units: 각 Cell 출력 크기\n",
    "    # forget_bias:  to the biases of the forget gate \n",
    "    #              (default: 1)  in order to reduce the scale of forgetting in the beginning of the training.\n",
    "    # state_is_tuple: True ==> accepted and returned states are 2-tuples of the c_state and m_state.\n",
    "    # state_is_tuple: False ==> they are concatenated along the column axis.\n",
    "    cell = tf.contrib.rnn.BasicLSTMCell(num_units=rnn_cell_hidden_dim, \n",
    "                                        forget_bias=forget_bias, state_is_tuple=True, activation=tf.nn.softsign)\n",
    "    if keep_prob < 1.0:\n",
    "        cell = tf.contrib.rnn.DropoutWrapper(cell, output_keep_prob=keep_prob)\n",
    "    return cell"
   ]
  },
  {
   "cell_type": "code",
   "execution_count": 59,
   "metadata": {
    "ExecuteTime": {
     "end_time": "2019-02-06T10:11:28.104055Z",
     "start_time": "2019-02-06T10:11:28.023996Z"
    }
   },
   "outputs": [
    {
     "name": "stdout",
     "output_type": "stream",
     "text": [
      "WARNING:tensorflow:From <ipython-input-58-7cad900779bf>:10: BasicLSTMCell.__init__ (from tensorflow.python.ops.rnn_cell_impl) is deprecated and will be removed in a future version.\n",
      "Instructions for updating:\n",
      "This class is deprecated, please use tf.nn.rnn_cell.LSTMCell, which supports all the feature this cell currently has. Please replace the existing code with tf.nn.rnn_cell.LSTMCell(name='basic_lstm_cell').\n"
     ]
    }
   ],
   "source": [
    "# num_stacked_layers개의 층으로 쌓인 Stacked RNNs 생성\n",
    "stackedRNNs = [lstm_cell() for _ in range(num_stacked_layers)]\n",
    "multi_cells = tf.contrib.rnn.MultiRNNCell(stackedRNNs, state_is_tuple=True) if num_stacked_layers > 1 else lstm_cell()"
   ]
  },
  {
   "cell_type": "code",
   "execution_count": 60,
   "metadata": {
    "ExecuteTime": {
     "end_time": "2019-02-06T10:11:30.064299Z",
     "start_time": "2019-02-06T10:11:29.864152Z"
    }
   },
   "outputs": [
    {
     "name": "stdout",
     "output_type": "stream",
     "text": [
      "hypothesis:  Tensor(\"rnn/transpose_1:0\", shape=(?, 28, 20), dtype=float32)\n"
     ]
    }
   ],
   "source": [
    "# RNN Cell(여기서는 LSTM셀임)들을 연결\n",
    "hypothesis, _states = tf.nn.dynamic_rnn(multi_cells, X, dtype=tf.float32)\n",
    "print(\"hypothesis: \", hypothesis)"
   ]
  },
  {
   "cell_type": "code",
   "execution_count": 61,
   "metadata": {
    "ExecuteTime": {
     "end_time": "2019-02-06T10:11:33.215877Z",
     "start_time": "2019-02-06T10:11:33.172847Z"
    }
   },
   "outputs": [],
   "source": [
    "\n",
    "# [:, -1]를 잘 살펴보자. LSTM RNN의 마지막 (hidden)출력만을 사용했다.\n",
    "# 과거 여러 거래일의 주가를 이용해서 다음날의 주가 1개를 예측하기때문에 MANY-TO-ONE형태이다\n",
    "hypothesis = tf.contrib.layers.fully_connected(hypothesis[:, -1], output_data_column_cnt, activation_fn=tf.identity)"
   ]
  },
  {
   "cell_type": "code",
   "execution_count": 62,
   "metadata": {
    "ExecuteTime": {
     "end_time": "2019-02-06T10:11:41.321651Z",
     "start_time": "2019-02-06T10:11:41.309642Z"
    }
   },
   "outputs": [],
   "source": [
    "# 손실함수로 평균제곱오차를 사용한다\n",
    "loss = tf.reduce_sum(tf.square(hypothesis - Y))\n",
    "# 최적화함수로 AdamOptimizer를 사용한다\n",
    "optimizer = tf.train.AdamOptimizer(learning_rate)\n",
    "# optimizer = tf.train.RMSPropOptimizer(learning_rate) # LSTM과 궁합 별로임"
   ]
  },
  {
   "cell_type": "code",
   "execution_count": 63,
   "metadata": {
    "ExecuteTime": {
     "end_time": "2019-02-06T10:11:43.738183Z",
     "start_time": "2019-02-06T10:11:43.238721Z"
    }
   },
   "outputs": [],
   "source": [
    "train = optimizer.minimize(loss)"
   ]
  },
  {
   "cell_type": "code",
   "execution_count": 64,
   "metadata": {
    "ExecuteTime": {
     "end_time": "2019-02-06T10:11:44.729660Z",
     "start_time": "2019-02-06T10:11:44.718649Z"
    }
   },
   "outputs": [],
   "source": [
    "# RMSE(Root Mean Square Error)\n",
    "# 제곱오차의 평균을 구하고 다시 제곱근을 구하면 평균 오차가 나온다\n",
    "# rmse = tf.sqrt(tf.reduce_mean(tf.square(targets-predictions))) # 아래 코드와 같다\n",
    "rmse = tf.sqrt(tf.reduce_mean(tf.squared_difference(targets, predictions)))"
   ]
  },
  {
   "cell_type": "code",
   "execution_count": 65,
   "metadata": {
    "ExecuteTime": {
     "end_time": "2019-02-06T10:11:47.183712Z",
     "start_time": "2019-02-06T10:11:47.179710Z"
    }
   },
   "outputs": [],
   "source": [
    "train_error_summary = [] # 학습용 데이터의 오류를 중간 중간 기록한다\n",
    "test_error_summary = []  # 테스트용 데이터의 오류를 중간 중간 기록한다\n",
    "test_predict = ''        # 테스트용데이터로 예측한 결과"
   ]
  },
  {
   "cell_type": "code",
   "execution_count": 66,
   "metadata": {
    "ExecuteTime": {
     "end_time": "2019-02-06T10:11:49.599027Z",
     "start_time": "2019-02-06T10:11:49.534472Z"
    }
   },
   "outputs": [],
   "source": [
    "sess = tf.Session()\n",
    "sess.run(tf.global_variables_initializer())"
   ]
  },
  {
   "cell_type": "code",
   "execution_count": 67,
   "metadata": {
    "ExecuteTime": {
     "end_time": "2019-02-06T10:16:44.039044Z",
     "start_time": "2019-02-06T10:11:52.022793Z"
    }
   },
   "outputs": [
    {
     "name": "stdout",
     "output_type": "stream",
     "text": [
      "학습을 시작합니다...\n",
      "epoch: 100, train_error(A): 0.009372256696224213, test_error(B): 0.03753983974456787, B-A: 0.02816758304834366\n",
      "epoch: 200, train_error(A): 0.008974186144769192, test_error(B): 0.034168124198913574, B-A: 0.025193937122821808\n",
      "epoch: 300, train_error(A): 0.008706546388566494, test_error(B): 0.03230947256088257, B-A: 0.0236029252409935\n",
      "epoch: 400, train_error(A): 0.008459841832518578, test_error(B): 0.0302925705909729, B-A: 0.021832728758454323\n",
      "epoch: 500, train_error(A): 0.008253959007561207, test_error(B): 0.02831369638442993, B-A: 0.0200597383081913\n",
      "epoch: 600, train_error(A): 0.008070563897490501, test_error(B): 0.026691973209381104, B-A: 0.018621409311890602\n",
      "epoch: 700, train_error(A): 0.007893736474215984, test_error(B): 0.025068581104278564, B-A: 0.017174843698740005\n",
      "epoch: 800, train_error(A): 0.00772747490555048, test_error(B): 0.02343285083770752, B-A: 0.015705376863479614\n",
      "epoch: 900, train_error(A): 0.00757893081754446, test_error(B): 0.02186375856399536, B-A: 0.014284827746450901\n",
      "epoch: 1000, train_error(A): 0.007447210140526295, test_error(B): 0.020451605319976807, B-A: 0.013004395179450512\n"
     ]
    }
   ],
   "source": [
    "# 학습한다\n",
    "start_time = datetime.datetime.now() # 시작시간을 기록한다\n",
    "print('학습을 시작합니다...')\n",
    "for epoch in range(epoch_num):\n",
    "    _, _loss = sess.run([train, loss], feed_dict={X: trainX, Y: trainY})\n",
    "    if ((epoch+1) % 100 == 0) or (epoch == epoch_num-1): # 100번째마다 또는 마지막 epoch인 경우\n",
    "        # 학습용데이터로 rmse오차를 구한다\n",
    "        train_predict = sess.run(hypothesis, feed_dict={X: trainX})\n",
    "        train_error = sess.run(rmse, feed_dict={targets: trainY, predictions: train_predict})\n",
    "        train_error_summary.append(train_error)\n",
    " \n",
    "        # 테스트용데이터로 rmse오차를 구한다\n",
    "        test_predict = sess.run(hypothesis, feed_dict={X: testX})\n",
    "        test_error = sess.run(rmse, feed_dict={targets: testY, predictions: test_predict})\n",
    "        test_error_summary.append(test_error)\n",
    "        \n",
    "        # 현재 오류를 출력한다\n",
    "        print(\"epoch: {}, train_error(A): {}, test_error(B): {}, B-A: {}\".format(epoch+1, train_error, test_error, test_error-train_error))"
   ]
  },
  {
   "cell_type": "code",
   "execution_count": 68,
   "metadata": {
    "ExecuteTime": {
     "end_time": "2019-02-06T10:16:44.052053Z",
     "start_time": "2019-02-06T10:16:44.044048Z"
    }
   },
   "outputs": [
    {
     "name": "stdout",
     "output_type": "stream",
     "text": [
      "elapsed_time: 0:04:52.013247\n",
      "elapsed_time per epoch: 0:00:00.292013\n"
     ]
    }
   ],
   "source": [
    "end_time = datetime.datetime.now() # 종료시간을 기록한다\n",
    "elapsed_time = end_time - start_time # 경과시간을 구한다\n",
    "print('elapsed_time:',elapsed_time)\n",
    "print('elapsed_time per epoch:',elapsed_time/epoch_num)"
   ]
  },
  {
   "cell_type": "code",
   "execution_count": 69,
   "metadata": {
    "ExecuteTime": {
     "end_time": "2019-02-06T10:16:44.089079Z",
     "start_time": "2019-02-06T10:16:44.055058Z"
    }
   },
   "outputs": [
    {
     "name": "stdout",
     "output_type": "stream",
     "text": [
      "input_data_column_cnt: 6,output_data_column_cnt: 1,seq_length: 28,rnn_cell_hidden_dim: 20,forget_bias: 1.0,num_stacked_layers: 1,keep_prob: 1.0,epoch_num: 1000,learning_rate: 0.01,train_error: 0.00744721,test_error: 0.020451605,min_test_error: 0.020451605\n"
     ]
    }
   ],
   "source": [
    "# 하이퍼파라미터 출력\n",
    "print('input_data_column_cnt:', input_data_column_cnt, end='')\n",
    "print(',output_data_column_cnt:', output_data_column_cnt, end='')\n",
    " \n",
    "print(',seq_length:', seq_length, end='')\n",
    "print(',rnn_cell_hidden_dim:', rnn_cell_hidden_dim, end='')\n",
    "print(',forget_bias:', forget_bias, end='')\n",
    "print(',num_stacked_layers:', num_stacked_layers, end='')\n",
    "print(',keep_prob:', keep_prob, end='')\n",
    " \n",
    "print(',epoch_num:', epoch_num, end='')\n",
    "print(',learning_rate:', learning_rate, end='')\n",
    " \n",
    "print(',train_error:', train_error_summary[-1], end='')\n",
    "print(',test_error:', test_error_summary[-1], end='')\n",
    "print(',min_test_error:', np.min(test_error_summary))"
   ]
  },
  {
   "cell_type": "code",
   "execution_count": 70,
   "metadata": {
    "ExecuteTime": {
     "end_time": "2019-02-06T10:16:44.748679Z",
     "start_time": "2019-02-06T10:16:44.098085Z"
    }
   },
   "outputs": [
    {
     "data": {
      "image/png": "[encoded data removed]",
      "text/plain": [
       "<Figure size 432x288 with 1 Axes>"
      ]
     },
     "metadata": {
      "needs_background": "light"
     },
     "output_type": "display_data"
    },
    {
     "data": {
      "image/png": "[encoded data removed]",
      "text/plain": [
       "<Figure size 432x288 with 1 Axes>"
      ]
     },
     "metadata": {
      "needs_background": "light"
     },
     "output_type": "display_data"
    }
   ],
   "source": [
    "# 결과 그래프 출력\n",
    "plt.figure(1)\n",
    "plt.plot(train_error_summary, 'gold')\n",
    "plt.plot(test_error_summary, 'b')\n",
    "plt.xlabel('Epoch(x100)')\n",
    "plt.ylabel('Root Mean Square Error')\n",
    " \n",
    "plt.figure(2)\n",
    "plt.plot(testY, 'r')\n",
    "plt.plot(test_predict, 'b')\n",
    "plt.xlabel('Time Period')\n",
    "plt.ylabel('Stock Price')\n",
    "plt.show()"
   ]
  },
  {
   "cell_type": "code",
   "execution_count": 71,
   "metadata": {
    "ExecuteTime": {
     "end_time": "2019-02-06T10:16:44.771694Z",
     "start_time": "2019-02-06T10:16:44.752684Z"
    }
   },
   "outputs": [
    {
     "name": "stdout",
     "output_type": "stream",
     "text": [
      "recent_data.shape: (1, 28, 6)\n",
      "recent_data: [[[0.76767628 0.80925935 0.76277503 0.80881894 0.80881894 0.02858137]\n",
      "  [0.79062487 0.81243171 0.77419223 0.81242355 0.81242355 0.02539747]\n",
      "  [0.81710459 0.8219488  0.80363228 0.80687801 0.80687801 0.01699972]\n",
      "  [0.81819735 0.81961634 0.79587678 0.80567923 0.80567923 0.01794824]\n",
      "  [0.79015185 0.81930644 0.78945052 0.81403009 0.81403009 0.01842311]\n",
      "  [0.81007486 0.82310676 0.78811307 0.78973593 0.78973593 0.02215074]\n",
      "  [0.80321636 0.83440978 0.79899852 0.83430376 0.83430376 0.02520535]\n",
      "  [0.83494805 0.83698683 0.82129635 0.83241181 0.83241181 0.02385204]\n",
      "  [0.83870756 0.84559871 0.82600188 0.83884623 0.83884623 0.02123001]\n",
      "  [0.84322554 0.84402473 0.83078894 0.8375251  0.8375251  0.01439581]\n",
      "  [0.8318165  0.83466264 0.82370207 0.83399386 0.83399386 0.01750237]\n",
      "  [0.82816301 0.82864822 0.81617489 0.82327799 0.82327799 0.01828053]\n",
      "  [0.81490274 0.81866225 0.81028282 0.81308406 0.81308406 0.01373124]\n",
      "  [0.81755316 0.84192074 0.81524519 0.83955572 0.83955572 0.01758937]\n",
      "  [0.84187992 0.85197191 0.84134165 0.84267094 0.84267094 0.01599682]\n",
      "  [0.84144767 0.85150303 0.83657908 0.84995353 0.84995353 0.01492022]\n",
      "  [0.85819021 0.86500142 0.85076905 0.85677122 0.85677122 0.02353426]\n",
      "  [0.84840403 0.8512665  0.82839944 0.83414886 0.83414886 0.01940063]\n",
      "  [0.83971879 0.84590045 0.82536575 0.83826715 0.83826715 0.0115889 ]\n",
      "  [0.83900929 0.84145175 0.82614045 0.8369053  0.8369053  0.01635327]\n",
      "  [0.84595749 0.85329712 0.84336411 0.85084241 0.85084241 0.01342674]\n",
      "  [0.84196961 0.84432646 0.82866863 0.83378998 0.83378998 0.01542287]\n",
      "  [0.8359104  0.83792469 0.82219747 0.82607525 0.82607525 0.01225106]\n",
      "  [0.83244446 0.85085058 0.83115589 0.84926853 0.84926853 0.0153685 ]\n",
      "  [0.86063675 0.87232303 0.85444702 0.87154017 0.87154017 0.01849198]\n",
      "  [0.8683026  0.87857806 0.86217808 0.86695698 0.86695698 0.01757246]\n",
      "  [0.86851464 0.88493911 0.86554616 0.88493911 0.88493911 0.03103666]\n",
      "  [0.87844755 0.89639703 0.87225623 0.8956957  0.8956957  0.04258085]]]\n",
      "test_predict [0.8840857]\n",
      "Tomorrow's stock price [1131.7535]\n"
     ]
    }
   ],
   "source": [
    "# sequence length만큼의 가장 최근 데이터를 슬라이싱한다\n",
    "recent_data = np.array([x[len(x)-seq_length : ]])\n",
    "print(\"recent_data.shape:\", recent_data.shape)\n",
    "print(\"recent_data:\", recent_data)\n",
    " \n",
    "# 내일 종가를 예측해본다\n",
    "test_predict = sess.run(hypothesis, feed_dict={X: recent_data})\n",
    " \n",
    "print(\"test_predict\", test_predict[0])\n",
    "test_predict = reverse_min_max_scaling(price,test_predict) # 금액데이터 역정규화한다\n",
    "print(\"Tomorrow's stock price\", test_predict[0]) # 예측한 주가를 출력한다"
   ]
  },
  {
   "cell_type": "code",
   "execution_count": null,
   "metadata": {},
   "outputs": [],
   "source": []
  }
 ],
 "metadata": {
  "hide_input": false,
  "kernelspec": {
   "display_name": "Python [conda env:tensorflow]",
   "language": "python",
   "name": "conda-env-tensorflow-py"
  },
  "language_info": {
   "codemirror_mode": {
    "name": "ipython",
    "version": 3
   },
   "file_extension": ".py",
   "mimetype": "text/x-python",
   "name": "python",
   "nbconvert_exporter": "python",
   "pygments_lexer": "ipython3",
   "version": "3.6.7"
  },
  "latex_envs": {
   "LaTeX_envs_menu_present": true,
   "autoclose": true,
   "autocomplete": true,
   "bibliofile": "biblio.bib",
   "cite_by": "apalike",
   "current_citInitial": 1,
   "eqLabelWithNumbers": true,
   "eqNumInitial": 1,
   "hotkeys": {
    "equation": "Ctrl-E",
    "itemize": "Ctrl-I"
   },
   "labels_anchors": false,
   "latex_user_defs": false,
   "report_style_numbering": true,
   "user_envs_cfg": true
  },
  "nbTranslate": {
   "displayLangs": [
    "*"
   ],
   "hotkey": "alt-t",
   "langInMainMenu": true,
   "sourceLang": "en",
   "targetLang": "fr",
   "useGoogleTranslate": true
  },
  "toc": {
   "base_numbering": 1,
   "nav_menu": {},
   "number_sections": true,
   "sideBar": true,
   "skip_h1_title": false,
   "title_cell": "Table of Contents",
   "title_sidebar": "Contents",
   "toc_cell": false,
   "toc_position": {},
   "toc_section_display": true,
   "toc_window_display": false
  }
 },
 "nbformat": 4,
 "nbformat_minor": 2
}
